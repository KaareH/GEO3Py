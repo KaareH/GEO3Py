{
 "cells": [
  {
   "attachments": {},
   "cell_type": "markdown",
   "metadata": {},
   "source": [
    "# Calculate area of parametric surface"
   ]
  },
  {
   "cell_type": "code",
   "execution_count": 1,
   "metadata": {},
   "outputs": [
    {
     "name": "stdout",
     "output_type": "stream",
     "text": [
      "3.9.13 (main, Aug 25 2022, 23:51:50) [MSC v.1916 64 bit (AMD64)]\n"
     ]
    }
   ],
   "source": [
    "# init\n",
    "import sys\n",
    "print (sys.version)\n",
    "import numpy as np\n",
    "from sympy import *\n",
    "from IPython.display import display, Markdown, Latex"
   ]
  },
  {
   "cell_type": "code",
   "execution_count": 2,
   "metadata": {},
   "outputs": [],
   "source": [
    "u, v, t = symbols('u v t', real=True)\n",
    "#u, v, t = symbols('u v t')\n",
    "x, y, z = symbols('x y z')\n",
    "a, b, c = symbols('a b c')"
   ]
  },
  {
   "cell_type": "code",
   "execution_count": 3,
   "metadata": {},
   "outputs": [],
   "source": [
    "import geo3py\n",
    "import geo3py.utils as utils\n",
    "from geo3py.surface import *"
   ]
  },
  {
   "attachments": {},
   "cell_type": "markdown",
   "metadata": {},
   "source": [
    "Definér en torus-flade med navn, parameterfremstilling og paramterdomæner:"
   ]
  },
  {
   "cell_type": "code",
   "execution_count": 4,
   "metadata": {},
   "outputs": [],
   "source": [
    "r_torus = Matrix([2*cos(t)+cos(t)*cos(u), 2*sin(t)+sin(t)*cos(u), sin(u)])\n",
    "t_dom = (t, 0, 2*pi)\n",
    "u_dom = (u, -pi, pi)\n",
    "torus_surf = Surface3D(\"r(t,u)\", r_torus, t_dom, u_dom)"
   ]
  },
  {
   "attachments": {},
   "cell_type": "markdown",
   "metadata": {},
   "source": [
    "Vis parameterfremstillingen skrevet pænt:"
   ]
  },
  {
   "cell_type": "code",
   "execution_count": 5,
   "metadata": {},
   "outputs": [
    {
     "data": {
      "text/markdown": [
       "$r(t,u) = \\left[\\begin{matrix}\\cos{\\left(t \\right)} \\cos{\\left(u \\right)} + 2 \\cos{\\left(t \\right)}\\\\\\sin{\\left(t \\right)} \\cos{\\left(u \\right)} + 2 \\sin{\\left(t \\right)}\\\\\\sin{\\left(u \\right)}\\end{matrix}\\right], t \\in [0, 2 \\pi], u \\in [- \\pi, \\pi]$"
      ],
      "text/plain": [
       "<IPython.core.display.Markdown object>"
      ]
     },
     "execution_count": 5,
     "metadata": {},
     "output_type": "execute_result"
    }
   ],
   "source": [
    "Markdown(f\"${torus_surf}$\")"
   ]
  },
  {
   "attachments": {},
   "cell_type": "markdown",
   "metadata": {},
   "source": [
    "Udregn overfladens areal. Return-værdierne er `areal` og `details`:"
   ]
  },
  {
   "cell_type": "code",
   "execution_count": 6,
   "metadata": {},
   "outputs": [
    {
     "data": {
      "text/latex": [
       "$\\displaystyle A = 8 \\pi^{2}$"
      ],
      "text/plain": [
       "Eq(A, 8*pi**2)"
      ]
     },
     "execution_count": 6,
     "metadata": {},
     "output_type": "execute_result"
    }
   ],
   "source": [
    "areal, details = torus_surf.getArea()\n",
    "Eq(Symbol('A'), areal)"
   ]
  },
  {
   "attachments": {},
   "cell_type": "markdown",
   "metadata": {},
   "source": [
    "hvor `details` indeholder yderligere detaljer som:"
   ]
  },
  {
   "cell_type": "code",
   "execution_count": 7,
   "metadata": {},
   "outputs": [
    {
     "data": {
      "text/markdown": [
       "Jacobi: $Jacobi = \\left|{\\cos{\\left(u \\right)} + 2}\\right|$"
      ],
      "text/plain": [
       "<IPython.core.display.Markdown object>"
      ]
     },
     "metadata": {},
     "output_type": "display_data"
    },
    {
     "data": {
      "text/markdown": [
       "Integrand: $A = \\int\\limits_{- \\pi}^{\\pi}\\int\\limits_{0}^{2 \\pi} \\left|{\\cos{\\left(u \\right)} + 2}\\right|\\, dt\\, du$"
      ],
      "text/plain": [
       "<IPython.core.display.Markdown object>"
      ]
     },
     "metadata": {},
     "output_type": "display_data"
    },
    {
     "data": {
      "text/markdown": [
       "Domain 1: $t \\in [0, 2 \\pi]$"
      ],
      "text/plain": [
       "<IPython.core.display.Markdown object>"
      ]
     },
     "metadata": {},
     "output_type": "display_data"
    },
    {
     "data": {
      "text/markdown": [
       "Domain 2: $u \\in [- \\pi, \\pi]$"
      ],
      "text/plain": [
       "<IPython.core.display.Markdown object>"
      ]
     },
     "metadata": {},
     "output_type": "display_data"
    }
   ],
   "source": [
    "display(\n",
    "    Markdown(f\"Jacobi: ${latex(details.jacobi)}$\"),\n",
    "    Markdown(f\"Integrand: ${latex(details.integrand)}$\"),\n",
    "    Markdown(f\"Domain 1: ${utils.domain_latex(details.dom_1)}$\"),\n",
    "    Markdown(f\"Domain 2: ${utils.domain_latex(details.dom_2)}$\"),\n",
    ")"
   ]
  },
  {
   "attachments": {},
   "cell_type": "markdown",
   "metadata": {},
   "source": [
    "Komponenter fra et `Surface3D` objekt kan tilgås enkeltvis:"
   ]
  },
  {
   "cell_type": "code",
   "execution_count": 8,
   "metadata": {},
   "outputs": [
    {
     "data": {
      "text/latex": [
       "$\\displaystyle \\left[\\begin{matrix}\\cos{\\left(t \\right)} \\cos{\\left(u \\right)} + 2 \\cos{\\left(t \\right)}\\\\\\sin{\\left(t \\right)} \\cos{\\left(u \\right)} + 2 \\sin{\\left(t \\right)}\\\\\\sin{\\left(u \\right)}\\end{matrix}\\right]$"
      ],
      "text/plain": [
       "Matrix([\n",
       "[cos(t)*cos(u) + 2*cos(t)],\n",
       "[sin(t)*cos(u) + 2*sin(t)],\n",
       "[                  sin(u)]])"
      ]
     },
     "execution_count": 8,
     "metadata": {},
     "output_type": "execute_result"
    }
   ],
   "source": [
    "torus_surf.r"
   ]
  },
  {
   "cell_type": "code",
   "execution_count": 9,
   "metadata": {},
   "outputs": [
    {
     "data": {
      "text/plain": [
       "(t, 0, 2*pi)"
      ]
     },
     "execution_count": 9,
     "metadata": {},
     "output_type": "execute_result"
    }
   ],
   "source": [
    "torus_surf.dom_1"
   ]
  },
  {
   "cell_type": "code",
   "execution_count": 10,
   "metadata": {},
   "outputs": [
    {
     "data": {
      "text/latex": [
       "$\\displaystyle \\left|{\\cos{\\left(u \\right)} + 2}\\right|$"
      ],
      "text/plain": [
       "Abs(cos(u) + 2)"
      ]
     },
     "execution_count": 10,
     "metadata": {},
     "output_type": "execute_result"
    }
   ],
   "source": [
    "torus_surf.getJacobi()"
   ]
  },
  {
   "attachments": {},
   "cell_type": "markdown",
   "metadata": {},
   "source": [
    "## Udregn areal med nye domæner\n",
    "Vi kan eksplicit angive nye domæner for parametre. Nedenfor ses det oprindelige domæne for $t$, da vi lavede vores `Surface3D`:"
   ]
  },
  {
   "cell_type": "code",
   "execution_count": 11,
   "metadata": {},
   "outputs": [
    {
     "data": {
      "text/markdown": [
       "$t \\in [0, 2 \\pi]$"
      ],
      "text/plain": [
       "<IPython.core.display.Markdown object>"
      ]
     },
     "execution_count": 11,
     "metadata": {},
     "output_type": "execute_result"
    }
   ],
   "source": [
    "Markdown(f\"${utils.domain_latex(torus_surf.dom_1)}$\")"
   ]
  },
  {
   "attachments": {},
   "cell_type": "markdown",
   "metadata": {},
   "source": [
    "`getArea()` kan tage yderligere parametre for at \"overskrive\" formodede værdier. Vi udregner nu arealet med det nye domæne $t \\in [0, \\pi]$. $u$ lader vi blive som oprindeligt:"
   ]
  },
  {
   "cell_type": "code",
   "execution_count": 12,
   "metadata": {},
   "outputs": [
    {
     "data": {
      "text/latex": [
       "$\\displaystyle A = 4 \\pi^{2}$"
      ],
      "text/plain": [
       "Eq(A, 4*pi**2)"
      ]
     },
     "execution_count": 12,
     "metadata": {},
     "output_type": "execute_result"
    }
   ],
   "source": [
    "areal, details = torus_surf.getArea(dom_1=(t, 0, pi))\n",
    "Eq(Symbol('A'), areal)"
   ]
  },
  {
   "attachments": {},
   "cell_type": "markdown",
   "metadata": {},
   "source": [
    "## Andre funktioner\n",
    "Tangentplan, Weingarten m.v..."
   ]
  },
  {
   "cell_type": "code",
   "execution_count": 13,
   "metadata": {},
   "outputs": [
    {
     "data": {
      "text/latex": [
       "$\\displaystyle \\left[\\begin{matrix}\\frac{\\left(\\cos{\\left(u \\right)} + 2\\right) \\cos{\\left(t \\right)} \\cos{\\left(u \\right)}}{\\left|{\\cos{\\left(u \\right)} + 2}\\right|}\\\\\\frac{\\left(\\cos{\\left(u \\right)} + 2\\right) \\sin{\\left(t \\right)} \\cos{\\left(u \\right)}}{\\left|{\\cos{\\left(u \\right)} + 2}\\right|}\\\\\\frac{\\left(\\cos{\\left(u \\right)} + 2\\right) \\sin{\\left(u \\right)}}{\\left|{\\cos{\\left(u \\right)} + 2}\\right|}\\end{matrix}\\right]$"
      ],
      "text/plain": [
       "Matrix([\n",
       "[(cos(u) + 2)*cos(t)*cos(u)/Abs(cos(u) + 2)],\n",
       "[(cos(u) + 2)*sin(t)*cos(u)/Abs(cos(u) + 2)],\n",
       "[       (cos(u) + 2)*sin(u)/Abs(cos(u) + 2)]])"
      ]
     },
     "execution_count": 13,
     "metadata": {},
     "output_type": "execute_result"
    }
   ],
   "source": [
    "simplify(torus_surf.getN())"
   ]
  },
  {
   "cell_type": "code",
   "execution_count": 14,
   "metadata": {},
   "outputs": [
    {
     "data": {
      "text/latex": [
       "$\\displaystyle \\left[\\begin{matrix}\\left(\\cos{\\left(u \\right)} + 2\\right)^{2} & 0\\\\0 & 1\\end{matrix}\\right]$"
      ],
      "text/plain": [
       "Matrix([\n",
       "[(cos(u) + 2)**2, 0],\n",
       "[              0, 1]])"
      ]
     },
     "execution_count": 14,
     "metadata": {},
     "output_type": "execute_result"
    }
   ],
   "source": [
    "simplify(torus_surf.getF_I())"
   ]
  },
  {
   "cell_type": "code",
   "execution_count": 15,
   "metadata": {},
   "outputs": [
    {
     "data": {
      "text/latex": [
       "$\\displaystyle \\left[\\begin{matrix}- \\frac{\\left(\\cos{\\left(u \\right)} + 2\\right)^{2} \\cos{\\left(u \\right)}}{\\left|{\\cos{\\left(u \\right)} + 2}\\right|} & 0\\\\0 & - \\frac{\\cos{\\left(u \\right)} + 2}{\\left|{\\cos{\\left(u \\right)} + 2}\\right|}\\end{matrix}\\right]$"
      ],
      "text/plain": [
       "Matrix([\n",
       "[-(cos(u) + 2)**2*cos(u)/Abs(cos(u) + 2),                             0],\n",
       "[                                      0, -(cos(u) + 2)/Abs(cos(u) + 2)]])"
      ]
     },
     "execution_count": 15,
     "metadata": {},
     "output_type": "execute_result"
    }
   ],
   "source": [
    "simplify(torus_surf.getF_II())"
   ]
  },
  {
   "cell_type": "code",
   "execution_count": 16,
   "metadata": {},
   "outputs": [
    {
     "data": {
      "text/latex": [
       "$\\displaystyle \\left[\\begin{matrix}- \\frac{\\cos{\\left(u \\right)}}{\\left|{\\cos{\\left(u \\right)} + 2}\\right|} & 0\\\\0 & - \\frac{\\cos{\\left(u \\right)} + 2}{\\left|{\\cos{\\left(u \\right)} + 2}\\right|}\\end{matrix}\\right]$"
      ],
      "text/plain": [
       "Matrix([\n",
       "[-cos(u)/Abs(cos(u) + 2),                             0],\n",
       "[                      0, -(cos(u) + 2)/Abs(cos(u) + 2)]])"
      ]
     },
     "execution_count": 16,
     "metadata": {},
     "output_type": "execute_result"
    }
   ],
   "source": [
    "torus_surf.getWeingarten()"
   ]
  },
  {
   "cell_type": "code",
   "execution_count": 17,
   "metadata": {},
   "outputs": [
    {
     "data": {
      "text/latex": [
       "$\\displaystyle \\frac{\\cos{\\left(u \\right)}}{\\cos{\\left(u \\right)} + 2}$"
      ],
      "text/plain": [
       "cos(u)/(cos(u) + 2)"
      ]
     },
     "execution_count": 17,
     "metadata": {},
     "output_type": "execute_result"
    }
   ],
   "source": [
    "torus_surf.getGaussK()"
   ]
  },
  {
   "cell_type": "code",
   "execution_count": 18,
   "metadata": {},
   "outputs": [
    {
     "data": {
      "text/latex": [
       "$\\displaystyle - \\frac{\\cos{\\left(u \\right)} + 1}{\\left|{\\cos{\\left(u \\right)} + 2}\\right|}$"
      ],
      "text/plain": [
       "-(cos(u) + 1)/Abs(cos(u) + 2)"
      ]
     },
     "execution_count": 18,
     "metadata": {},
     "output_type": "execute_result"
    }
   ],
   "source": [
    "simplify(torus_surf.getMiddelH())"
   ]
  }
 ],
 "metadata": {
  "kernelspec": {
   "display_name": "base",
   "language": "python",
   "name": "python3"
  },
  "language_info": {
   "codemirror_mode": {
    "name": "ipython",
    "version": 3
   },
   "file_extension": ".py",
   "mimetype": "text/x-python",
   "name": "python",
   "nbconvert_exporter": "python",
   "pygments_lexer": "ipython3",
   "version": "3.9.13"
  },
  "orig_nbformat": 4,
  "vscode": {
   "interpreter": {
    "hash": "ad2bdc8ecc057115af97d19610ffacc2b4e99fae6737bb82f5d7fb13d2f2c186"
   }
  }
 },
 "nbformat": 4,
 "nbformat_minor": 2
}
