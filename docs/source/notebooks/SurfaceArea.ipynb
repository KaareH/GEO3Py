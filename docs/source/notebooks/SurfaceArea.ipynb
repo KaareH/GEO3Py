{
 "cells": [
  {
   "attachments": {},
   "cell_type": "markdown",
   "metadata": {},
   "source": [
    "# Calculate area of parametric surface"
   ]
  },
  {
   "cell_type": "code",
   "execution_count": null,
   "metadata": {},
   "outputs": [],
   "source": [
    "# init\n",
    "import sys\n",
    "print (sys.version)\n",
    "import numpy as np\n",
    "from sympy import *\n",
    "from IPython.display import display, Markdown, Latex\n",
    "from geo3py import *"
   ]
  },
  {
   "cell_type": "code",
   "execution_count": null,
   "metadata": {},
   "outputs": [],
   "source": [
    "u, v, t = symbols('u v t', real=True)\n",
    "#u, v, t = symbols('u v t')\n",
    "x, y, z = symbols('x y z')\n",
    "a, b, c = symbols('a b c')"
   ]
  },
  {
   "attachments": {},
   "cell_type": "markdown",
   "metadata": {},
   "source": [
    "Definér en torus-flade med navn, parameterfremstilling og paramterdomæner:"
   ]
  },
  {
   "cell_type": "code",
   "execution_count": null,
   "metadata": {},
   "outputs": [],
   "source": [
    "r_torus = Matrix([2*cos(t)+cos(t)*cos(u), 2*sin(t)+sin(t)*cos(u), sin(u)])\n",
    "t_dom = (t, 0, 2*pi)\n",
    "u_dom = (u, -pi, pi)\n",
    "torus_surf = Surface3D(\"r(t,u)\", r_torus, t_dom, u_dom)"
   ]
  },
  {
   "attachments": {},
   "cell_type": "markdown",
   "metadata": {},
   "source": [
    "Vis parameterfremstillingen skrevet pænt:"
   ]
  },
  {
   "cell_type": "code",
   "execution_count": null,
   "metadata": {},
   "outputs": [],
   "source": [
    "Markdown(f\"${torus_surf}$\")"
   ]
  },
  {
   "attachments": {},
   "cell_type": "markdown",
   "metadata": {},
   "source": [
    "Brug `.quickPlot()` til nemt at tjekke om parameterfremstillingen er tastet rigtigt ind og/eller giver det forventede resultat."
   ]
  },
  {
   "cell_type": "code",
   "execution_count": null,
   "metadata": {},
   "outputs": [],
   "source": [
    "torus_surf.quickPlot()"
   ]
  },
  {
   "attachments": {},
   "cell_type": "markdown",
   "metadata": {},
   "source": [
    "Udregn overfladens areal. Return-værdierne er `areal` og `details`:"
   ]
  },
  {
   "cell_type": "code",
   "execution_count": null,
   "metadata": {},
   "outputs": [],
   "source": [
    "areal, details = torus_surf.getArea()\n",
    "Eq(Symbol('A'), areal)"
   ]
  },
  {
   "attachments": {},
   "cell_type": "markdown",
   "metadata": {},
   "source": [
    "hvor `details` indeholder yderligere detaljer som:"
   ]
  },
  {
   "cell_type": "code",
   "execution_count": null,
   "metadata": {},
   "outputs": [],
   "source": [
    "display(\n",
    "    Markdown(f\"Jacobi: ${latex(details.jacobi)}$\"),\n",
    "    Markdown(f\"Integrand: ${latex(details.integrand)}$\"),\n",
    "    Markdown(f\"Domain 1: ${utils.domain_latex(details.dom_1)}$\"),\n",
    "    Markdown(f\"Domain 2: ${utils.domain_latex(details.dom_2)}$\"),\n",
    ")"
   ]
  },
  {
   "attachments": {},
   "cell_type": "markdown",
   "metadata": {},
   "source": [
    "Komponenter fra et `Surface3D` objekt kan tilgås enkeltvis:"
   ]
  },
  {
   "cell_type": "code",
   "execution_count": null,
   "metadata": {},
   "outputs": [],
   "source": [
    "torus_surf.r"
   ]
  },
  {
   "cell_type": "code",
   "execution_count": null,
   "metadata": {},
   "outputs": [],
   "source": [
    "torus_surf.dom_1"
   ]
  },
  {
   "cell_type": "code",
   "execution_count": null,
   "metadata": {},
   "outputs": [],
   "source": [
    "torus_surf.getJacobi()"
   ]
  },
  {
   "attachments": {},
   "cell_type": "markdown",
   "metadata": {},
   "source": [
    "## Udregn areal med nye domæner\n",
    "Vi kan eksplicit angive nye domæner for parametre. Nedenfor ses det oprindelige domæne for $t$, da vi lavede vores `Surface3D`:"
   ]
  },
  {
   "cell_type": "code",
   "execution_count": null,
   "metadata": {},
   "outputs": [],
   "source": [
    "Markdown(f\"${utils.domain_latex(torus_surf.dom_1)}$\")"
   ]
  },
  {
   "attachments": {},
   "cell_type": "markdown",
   "metadata": {},
   "source": [
    "`getArea()` kan tage yderligere parametre for at \"overskrive\" formodede værdier. Vi udregner nu arealet med det nye domæne $t \\in [0, \\pi]$. $u$ lader vi blive som oprindeligt:"
   ]
  },
  {
   "cell_type": "code",
   "execution_count": null,
   "metadata": {},
   "outputs": [],
   "source": [
    "areal, details = torus_surf.getArea(dom_1=(t, 0, pi))\n",
    "Eq(Symbol('A'), areal)"
   ]
  },
  {
   "attachments": {},
   "cell_type": "markdown",
   "metadata": {},
   "source": [
    "Bemærk at vi ikke har ændret det oprindelige objekts intervaller. Hvis vi igen prøver at regne arealet ud, vil vi få det samme resultat som første gang:"
   ]
  },
  {
   "cell_type": "code",
   "execution_count": null,
   "metadata": {},
   "outputs": [],
   "source": [
    "areal, details = torus_surf.getArea()\n",
    "Eq(Symbol('A'), areal)"
   ]
  },
  {
   "attachments": {},
   "cell_type": "markdown",
   "metadata": {},
   "source": [
    "Vi kan dog også godt gå ind og ændre på objektet \"permanent\", så det påvirker alle nye resultater:"
   ]
  },
  {
   "cell_type": "code",
   "execution_count": null,
   "metadata": {},
   "outputs": [],
   "source": [
    "torus_surf.dom_1 = (t, 0, pi/2)\n",
    "torus_surf.dom_2 = (u, -pi, pi/2)\n",
    "Markdown(f\"${torus_surf}$\")"
   ]
  },
  {
   "cell_type": "code",
   "execution_count": null,
   "metadata": {},
   "outputs": [],
   "source": [
    "areal, details = torus_surf.getArea()\n",
    "Eq(Symbol('A'), areal)"
   ]
  },
  {
   "cell_type": "code",
   "execution_count": null,
   "metadata": {},
   "outputs": [],
   "source": [
    "torus_surf.quickPlot()"
   ]
  },
  {
   "attachments": {},
   "cell_type": "markdown",
   "metadata": {},
   "source": [
    "## Andre funktioner\n",
    "Automatisk udregning af tangentplan, Weingarten m.v...\n",
    "\n",
    "Bemærk at der ikke nødvendigvis tages højde for parameternes intervaller ved simplificering osv..."
   ]
  },
  {
   "cell_type": "code",
   "execution_count": null,
   "metadata": {},
   "outputs": [],
   "source": [
    "simplify(torus_surf.getN())"
   ]
  },
  {
   "cell_type": "code",
   "execution_count": null,
   "metadata": {},
   "outputs": [],
   "source": [
    "simplify(torus_surf.getF_I())"
   ]
  },
  {
   "cell_type": "code",
   "execution_count": null,
   "metadata": {},
   "outputs": [],
   "source": [
    "simplify(torus_surf.getF_II())"
   ]
  },
  {
   "cell_type": "code",
   "execution_count": null,
   "metadata": {},
   "outputs": [],
   "source": [
    "torus_surf.getWeingarten()"
   ]
  },
  {
   "cell_type": "code",
   "execution_count": null,
   "metadata": {},
   "outputs": [],
   "source": [
    "torus_surf.getGaussK()"
   ]
  },
  {
   "cell_type": "code",
   "execution_count": null,
   "metadata": {},
   "outputs": [],
   "source": [
    "simplify(torus_surf.getMiddelH())"
   ]
  }
 ],
 "metadata": {
  "kernelspec": {
   "display_name": "base",
   "language": "python",
   "name": "python3"
  },
  "language_info": {
   "codemirror_mode": {
    "name": "ipython",
    "version": 3
   },
   "file_extension": ".py",
   "mimetype": "text/x-python",
   "name": "python",
   "nbconvert_exporter": "python",
   "pygments_lexer": "ipython3",
   "version": "3.9.13"
  },
  "orig_nbformat": 4,
  "vscode": {
   "interpreter": {
    "hash": "ad2bdc8ecc057115af97d19610ffacc2b4e99fae6737bb82f5d7fb13d2f2c186"
   }
  }
 },
 "nbformat": 4,
 "nbformat_minor": 2
}
