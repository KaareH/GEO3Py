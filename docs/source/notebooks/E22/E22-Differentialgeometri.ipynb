{
 "cells": [
  {
   "cell_type": "code",
   "execution_count": null,
   "metadata": {},
   "outputs": [],
   "source": [
    "# init\n",
    "import sys\n",
    "print (sys.version)\n",
    "import numpy as np\n",
    "from sympy import *\n",
    "from IPython.display import display, Markdown, Latex\n",
    "\n",
    "u, v, t, w = symbols('u v t w', real=True)\n",
    "#u, v, t = symbols('u v t')\n",
    "x, y, z = symbols('x y z')\n",
    "a, b, c = symbols('a b c')\n",
    "\n",
    "from geo3py import *\n",
    "\n",
    "%matplotlib inline\n",
    "#%matplotlib widget\n",
    "from mpl_toolkits import mplot3d\n",
    "import matplotlib.pyplot as plt\n",
    "from spb import plot3d_parametric_surface, plot3d_parametric_line, PB, MB, KB\n",
    "from spb import plot\n",
    "from spb import plot3d\n",
    "\n",
    "import scipy.integrate"
   ]
  },
  {
   "attachments": {},
   "cell_type": "markdown",
   "metadata": {},
   "source": [
    "# Differentialgeometri og Parametrisk design - 01237 - E22\n",
    "\n",
    "Kaare. G. S. Hansen, s214282 - DTU\n",
    "\n",
    "Dato: 16. december 2022"
   ]
  },
  {
   "attachments": {},
   "cell_type": "markdown",
   "metadata": {},
   "source": [
    "## Opgave 1\n",
    "\n",
    "![](2022-12-16-15-01-00.png)"
   ]
  },
  {
   "cell_type": "code",
   "execution_count": null,
   "metadata": {},
   "outputs": [],
   "source": [
    "tet1 = Tetraeder([0,0,0], [1,0,0],[0,1,0],[0,0,1])\n",
    "tet2 = Tetraeder([0,0,0], [1,1,0],[1,0,1],[0,1,1])\n",
    "\n",
    "display(\n",
    "    tet1.getMatrix(),\n",
    "    tet2.getMatrix()\n",
    ")"
   ]
  },
  {
   "attachments": {},
   "cell_type": "markdown",
   "metadata": {},
   "source": [
    "![](2022-12-16-15-01-26.png)"
   ]
  },
  {
   "cell_type": "code",
   "execution_count": null,
   "metadata": {},
   "outputs": [],
   "source": [
    "tet2.getMatrix().det()"
   ]
  },
  {
   "attachments": {},
   "cell_type": "markdown",
   "metadata": {},
   "source": [
    "Da determinanten er $< 0$, er orienteringen negativ"
   ]
  },
  {
   "attachments": {},
   "cell_type": "markdown",
   "metadata": {},
   "source": [
    "![](2022-12-16-15-01-38.png)"
   ]
  },
  {
   "attachments": {},
   "cell_type": "markdown",
   "metadata": {},
   "source": [
    "Givet ved numeriske værdi af determinanten over 6."
   ]
  },
  {
   "cell_type": "code",
   "execution_count": null,
   "metadata": {},
   "outputs": [],
   "source": [
    "EqPrint('Vol(tet_2)', tet2.getVol())"
   ]
  },
  {
   "attachments": {},
   "cell_type": "markdown",
   "metadata": {},
   "source": [
    "![](2022-12-16-15-01-49.png)"
   ]
  },
  {
   "attachments": {},
   "cell_type": "markdown",
   "metadata": {},
   "source": [
    "Vi skal løse ligningen $K \\cdot K_1 = K_2$. Finder den inverse af $K_1$."
   ]
  },
  {
   "cell_type": "code",
   "execution_count": null,
   "metadata": {},
   "outputs": [],
   "source": [
    "K = tet2.getMatrix() * tet1.getMatrix().inv()\n",
    "EqPrint('K', K)"
   ]
  },
  {
   "attachments": {},
   "cell_type": "markdown",
   "metadata": {},
   "source": [
    "Vi tjekker at $K$ er rigtig ved at se om $K tet_1 = tet_2$"
   ]
  },
  {
   "cell_type": "code",
   "execution_count": null,
   "metadata": {},
   "outputs": [],
   "source": [
    "K * tet1.getMatrix()"
   ]
  },
  {
   "attachments": {},
   "cell_type": "markdown",
   "metadata": {},
   "source": [
    "Hvilket den heldigvis er."
   ]
  },
  {
   "attachments": {},
   "cell_type": "markdown",
   "metadata": {},
   "source": [
    "![](2022-12-16-15-02-06.png)"
   ]
  },
  {
   "cell_type": "code",
   "execution_count": null,
   "metadata": {},
   "outputs": [],
   "source": [
    "result = SVD3(K)\n",
    "display(\n",
    "    EqPrint('F', result.F_hat),\n",
    "    EqPrint('\\Sigma', result.S), \n",
    "    EqPrint('U', result.U),\n",
    "    EqPrint('V', result.V),\n",
    ")"
   ]
  },
  {
   "attachments": {},
   "cell_type": "markdown",
   "metadata": {},
   "source": [
    "Med Sympys egen SVD, dog ikke på samme form:"
   ]
  },
  {
   "cell_type": "code",
   "execution_count": null,
   "metadata": {},
   "outputs": [],
   "source": [
    "U, S, V = K.singular_value_decomposition()\n",
    "display(\n",
    "    EqPrint(\"U\", U),\n",
    "    EqPrint(\"\\Sigma\", S),\n",
    "    EqPrint(\"V^T\", V.T),\n",
    "    EqPrint(\"U \\cdot \\Sigma \\cdot V^T\", U*S*V.T),\n",
    ")"
   ]
  },
  {
   "attachments": {},
   "cell_type": "markdown",
   "metadata": {},
   "source": [
    "## Opgave 2\n",
    "![](2022-12-16-15-02-30.png)"
   ]
  },
  {
   "cell_type": "code",
   "execution_count": null,
   "metadata": {},
   "outputs": [],
   "source": [
    "p2 = Matrix([cos(t), sin(t), sqrt(3)*sin(t)])\n",
    "t_dom = (t, -pi, pi)\n",
    "curve2 = Curve3D(p2, t_dom)\n",
    "v2 = curve2.p\n",
    "EqPrint('p(t)', v2)"
   ]
  },
  {
   "cell_type": "code",
   "execution_count": null,
   "metadata": {},
   "outputs": [],
   "source": [
    "curve2.quickPlot()"
   ]
  },
  {
   "attachments": {},
   "cell_type": "markdown",
   "metadata": {},
   "source": [
    "![](2022-12-16-15-02-45.png)"
   ]
  },
  {
   "cell_type": "code",
   "execution_count": null,
   "metadata": {},
   "outputs": [],
   "source": [
    "v2 = get_v(curve2.p, curve2.t_dom[0])\n",
    "EqPrint('v(t)', v2)"
   ]
  },
  {
   "attachments": {},
   "cell_type": "markdown",
   "metadata": {},
   "source": [
    "Vi har taget farten af kurven, og det ses at udtrykket er forskelligt fra 1. Derfor er den ikke enhedsfart-parametriseret."
   ]
  },
  {
   "cell_type": "code",
   "execution_count": null,
   "metadata": {},
   "outputs": [],
   "source": [
    "display(\n",
    "    v2.subs({t:pi/2}),\n",
    "    v2.subs({t:-pi/2})\n",
    ")"
   ]
  },
  {
   "attachments": {},
   "cell_type": "markdown",
   "metadata": {},
   "source": [
    "Det kan dog bemærkes at netop når $t=\\frac{\\pi}{2}$ eller $t=-\\frac{\\pi}{2}$, er farten 1.\n",
    "\n",
    "Dette skal dog gælde for samtlige værdier i intervallet før den er enheds-parametriseret."
   ]
  },
  {
   "attachments": {},
   "cell_type": "markdown",
   "metadata": {},
   "source": [
    "![](2022-12-16-15-02-57.png)"
   ]
  },
  {
   "cell_type": "code",
   "execution_count": null,
   "metadata": {},
   "outputs": [],
   "source": [
    "#curve2.getFrenetSerret()\n",
    "result = get_FrenetSerret(curve2.p, curve2.t_dom[0])\n",
    "display(\n",
    "    EqPrint('e(t)', result.e),\n",
    "    EqPrint('f(t)', result.f),\n",
    "    EqPrint('g(t)', result.g)\n",
    ")"
   ]
  },
  {
   "attachments": {},
   "cell_type": "markdown",
   "metadata": {},
   "source": [
    "![](2022-12-16-15-03-08.png)"
   ]
  },
  {
   "cell_type": "code",
   "execution_count": null,
   "metadata": {},
   "outputs": [],
   "source": [
    "#get_kappa(curve2.p, curve2.t_dom[0], v2)\n",
    "EqPrint('\\kappa(t)', curve2.getKappa())"
   ]
  },
  {
   "attachments": {},
   "cell_type": "markdown",
   "metadata": {},
   "source": [
    "![](2022-12-16-15-03-23.png)"
   ]
  },
  {
   "cell_type": "code",
   "execution_count": null,
   "metadata": {},
   "outputs": [],
   "source": [
    "EqPrint('\\\\tau(t)', curve2.getTau())"
   ]
  },
  {
   "attachments": {},
   "cell_type": "markdown",
   "metadata": {},
   "source": [
    "Bemærker en torsion på 0 for alle værdier af $t$"
   ]
  },
  {
   "attachments": {},
   "cell_type": "markdown",
   "metadata": {},
   "source": [
    "![](2022-12-16-15-03-41.png)"
   ]
  },
  {
   "cell_type": "code",
   "execution_count": null,
   "metadata": {},
   "outputs": [],
   "source": [
    "r2 = u*p2\n",
    "u_dom = (u, Rational(1,2), 1)\n",
    "surf2 = Surface3D('r(t,u)', r2, t_dom, u_dom)\n",
    "EqPrint('r(t,u)', surf2.r)"
   ]
  },
  {
   "cell_type": "code",
   "execution_count": null,
   "metadata": {},
   "outputs": [],
   "source": [
    "surf2.quickPlot()"
   ]
  },
  {
   "cell_type": "code",
   "execution_count": null,
   "metadata": {},
   "outputs": [],
   "source": [
    "area, details = surf2.getArea()\n",
    "display(\n",
    "    details.jacobi,\n",
    "    details.area\n",
    ")"
   ]
  },
  {
   "attachments": {},
   "cell_type": "markdown",
   "metadata": {},
   "source": [
    "Vi ser en skive-agtig flade med hul i midten."
   ]
  },
  {
   "attachments": {},
   "cell_type": "markdown",
   "metadata": {},
   "source": [
    "## Opgave 3\n",
    "![](2022-12-16-15-04-14.png)"
   ]
  },
  {
   "cell_type": "code",
   "execution_count": null,
   "metadata": {},
   "outputs": [],
   "source": [
    "#u, v = symbols('u_C v_C')\n",
    "\n",
    "s3 = Matrix([u, v, sin(u)*cos(v)])\n",
    "u_dom = (u, -pi, pi)\n",
    "v_dom = (v, -pi, pi)\n",
    "surf3 = Surface3D('s(u, v', s3, u_dom, v_dom)\n",
    "EqPrint('s(u,v)', surf3.r)"
   ]
  },
  {
   "cell_type": "code",
   "execution_count": null,
   "metadata": {},
   "outputs": [],
   "source": [
    "surf3.quickPlot()"
   ]
  },
  {
   "attachments": {},
   "cell_type": "markdown",
   "metadata": {},
   "source": [
    "![](2022-12-16-15-04-29.png)"
   ]
  },
  {
   "cell_type": "code",
   "execution_count": null,
   "metadata": {},
   "outputs": [],
   "source": [
    "jac3 = surf3.getJacobi()\n",
    "EqPrint('Jacobi_s', jac3)"
   ]
  },
  {
   "attachments": {},
   "cell_type": "markdown",
   "metadata": {},
   "source": [
    "![](2022-12-16-15-04-37.png)"
   ]
  },
  {
   "cell_type": "code",
   "execution_count": null,
   "metadata": {},
   "outputs": [],
   "source": [
    "area, details = surf3.getArea()\n",
    "display(\n",
    "    *details\n",
    ")"
   ]
  },
  {
   "cell_type": "code",
   "execution_count": null,
   "metadata": {},
   "outputs": [],
   "source": [
    "simplify(area.evalf().subs({u:pi,v:pi}))"
   ]
  },
  {
   "cell_type": "code",
   "execution_count": null,
   "metadata": {},
   "outputs": [],
   "source": [
    "print(details.jacobi)"
   ]
  },
  {
   "attachments": {},
   "cell_type": "markdown",
   "metadata": {},
   "source": [
    "Den kan ikke finde ud af integralet, så vi kan ikke finde arealet direkte."
   ]
  },
  {
   "attachments": {},
   "cell_type": "markdown",
   "metadata": {},
   "source": [
    "\n",
    "\n",
    "Alternativt kan numerisk integration benyttes. Dette kan gøres ved hjælp af scipy."
   ]
  },
  {
   "cell_type": "code",
   "execution_count": null,
   "metadata": {},
   "outputs": [],
   "source": [
    "integrand = lambdify([u,v], details.jacobi.rhs)\n",
    "result = scipy.integrate.dblquad(integrand, -pi, pi, -pi, pi)\n",
    "print(result)"
   ]
  },
  {
   "attachments": {},
   "cell_type": "markdown",
   "metadata": {},
   "source": [
    "Her får vi et areal på $48.17968...$ med en tilhørende usikkerhed af meget lille størrelse. Vi kan sammenligne resultatet med hvis fladen var plan:"
   ]
  },
  {
   "cell_type": "code",
   "execution_count": null,
   "metadata": {},
   "outputs": [],
   "source": [
    "EqPrint(\"(2\\pi)^2\",((2*pi)**2).evalf())"
   ]
  },
  {
   "attachments": {},
   "cell_type": "markdown",
   "metadata": {},
   "source": [
    "Det egentlige areal af fladen må nødvendigvis værre større end overstående, men kun en smule, hvorfor den numeriske udregning giver et resultat inden for det forventelige."
   ]
  },
  {
   "attachments": {},
   "cell_type": "markdown",
   "metadata": {},
   "source": [
    "![](2022-12-16-15-04-47.png)"
   ]
  },
  {
   "attachments": {},
   "cell_type": "markdown",
   "metadata": {},
   "source": [
    "Indsætter $\\pi/2$ på $v$'s plads og udregner Weingarten"
   ]
  },
  {
   "cell_type": "code",
   "execution_count": null,
   "metadata": {},
   "outputs": [],
   "source": [
    "weingarten = surf3.getWeingarten()\n",
    "display(weingarten)\n",
    "\n",
    "weingarten = weingarten.subs({v: pi/2})\n",
    "#display(weingarten)"
   ]
  },
  {
   "attachments": {},
   "cell_type": "markdown",
   "metadata": {},
   "source": [
    "Simplifier Weingarten..."
   ]
  },
  {
   "cell_type": "code",
   "execution_count": null,
   "metadata": {},
   "outputs": [],
   "source": [
    "EqPrint('W(u,\\pi/2)', simplify(weingarten))"
   ]
  },
  {
   "attachments": {},
   "cell_type": "markdown",
   "metadata": {},
   "source": [
    "![](2022-12-16-15-05-03.png)"
   ]
  },
  {
   "attachments": {},
   "cell_type": "markdown",
   "metadata": {},
   "source": [
    "Samme procedure som for Weingarten"
   ]
  },
  {
   "cell_type": "code",
   "execution_count": null,
   "metadata": {},
   "outputs": [],
   "source": [
    "GaussK = surf3.getGaussK()\n",
    "GaussK = GaussK.subs({v:pi/2})\n",
    "display(GaussK)"
   ]
  },
  {
   "attachments": {},
   "cell_type": "markdown",
   "metadata": {},
   "source": [
    "Indsætter den konstante $v$"
   ]
  },
  {
   "cell_type": "code",
   "execution_count": null,
   "metadata": {},
   "outputs": [],
   "source": [
    "GaussK = simplify(GaussK)\n",
    "display(EqPrint('K(u,\\pi/2)', GaussK))"
   ]
  },
  {
   "attachments": {},
   "cell_type": "markdown",
   "metadata": {},
   "source": [
    "![](2022-12-16-15-05-20.png)"
   ]
  },
  {
   "attachments": {},
   "cell_type": "markdown",
   "metadata": {},
   "source": [
    "Igen samme procedure"
   ]
  },
  {
   "cell_type": "code",
   "execution_count": null,
   "metadata": {},
   "outputs": [],
   "source": [
    "MiddelH = surf3.getMiddelH()\n",
    "display(EqPrint('H(u,v)', MiddelH))\n",
    "MiddelH = MiddelH.subs({v:pi/2})\n",
    "display(EqPrint('H(u, \\pi/2)', MiddelH))"
   ]
  },
  {
   "attachments": {},
   "cell_type": "markdown",
   "metadata": {},
   "source": [
    "Vi observerer at $H(u) = 0$, når $v=\\pi/2$\n",
    "\n",
    " Det omvendte vil også gælde  for $u$ med værdier der opfylder $sin(u)=0$, dvs. $-\\pi$, $0$ og $\\pi$.\n",
    "\n",
    "~~At middel-krumningen er konstant 0, vil sige at fladen er mulig med et ustrækeligt stykke papir.~~"
   ]
  },
  {
   "cell_type": "code",
   "execution_count": null,
   "metadata": {},
   "outputs": [],
   "source": [
    "u_dom = (u, -pi, pi)\n",
    "v_dom = (v, -pi, pi)\n",
    "surf3_2 = Surface3D('s_2(u, v', surf3.r.subs({v:pi/2}), u_dom, v_dom)\n",
    "EqPrint('s_2(u,v)', surf3_2.r)"
   ]
  },
  {
   "attachments": {},
   "cell_type": "markdown",
   "metadata": {},
   "source": [
    "Vi observerer at parameterfremstillingen er gået fra flade til en ret linje efter at vi har sat $v=\\pi/2$"
   ]
  },
  {
   "attachments": {},
   "cell_type": "markdown",
   "metadata": {},
   "source": [
    "![](2022-12-16-15-05-31.png)"
   ]
  },
  {
   "cell_type": "code",
   "execution_count": null,
   "metadata": {},
   "outputs": [],
   "source": [
    "K3 = simplify(surf3.getGaussK().subs({v:pi/2}))\n",
    "H3 = simplify(surf3.getMiddelH().subs({v:pi/2}))\n",
    "display(K3, H3)"
   ]
  },
  {
   "attachments": {},
   "cell_type": "markdown",
   "metadata": {},
   "source": [
    "For at vi har et navlepunkt, skal det gælde at: $H^2 = K$ "
   ]
  },
  {
   "cell_type": "code",
   "execution_count": null,
   "metadata": {},
   "outputs": [],
   "source": [
    "eq3 = Eq(H3**2, K3)\n",
    "eq3"
   ]
  },
  {
   "attachments": {},
   "cell_type": "markdown",
   "metadata": {},
   "source": [
    "Vi løser for overstående ligning"
   ]
  },
  {
   "cell_type": "code",
   "execution_count": null,
   "metadata": {},
   "outputs": [],
   "source": [
    "sol3 = solve(eq3, dict=True)\n",
    "display(\n",
    "    sol3[0][u],\n",
    "    sol3[1][u],\n",
    ")"
   ]
  },
  {
   "attachments": {},
   "cell_type": "markdown",
   "metadata": {},
   "source": [
    "Der er altså tale om navlepunkter netop når $u=\\pi/2$ eller $u=\\pi -1/2$, når $v=\\pi/2$"
   ]
  },
  {
   "attachments": {},
   "cell_type": "markdown",
   "metadata": {},
   "source": [
    "Slut..."
   ]
  }
 ],
 "metadata": {
  "kernelspec": {
   "display_name": "base",
   "language": "python",
   "name": "python3"
  },
  "language_info": {
   "codemirror_mode": {
    "name": "ipython",
    "version": 3
   },
   "file_extension": ".py",
   "mimetype": "text/x-python",
   "name": "python",
   "nbconvert_exporter": "python",
   "pygments_lexer": "ipython3",
   "version": "3.9.15"
  },
  "orig_nbformat": 4,
  "vscode": {
   "interpreter": {
    "hash": "ad2bdc8ecc057115af97d19610ffacc2b4e99fae6737bb82f5d7fb13d2f2c186"
   }
  }
 },
 "nbformat": 4,
 "nbformat_minor": 2
}
