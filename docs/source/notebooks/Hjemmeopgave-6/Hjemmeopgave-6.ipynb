{
 "cells": [
  {
   "cell_type": "code",
   "execution_count": null,
   "metadata": {
    "tags": []
   },
   "outputs": [],
   "source": [
    "import sys\n",
    "print (sys.version)\n",
    "# init\n",
    "#%matplotlib widget\n",
    "#%matplotlib inline\n",
    "import numpy as np\n",
    "from sympy import *\n",
    "from mpl_toolkits import mplot3d\n",
    "import matplotlib.pyplot as plt\n",
    "from spb import plot3d_parametric_surface, plot3d_parametric_line, PB, MB, KB\n",
    "#%matplotlib notebook\n",
    "from IPython.display import display, Markdown, Latex\n",
    "from geo3py import *\n",
    "\n",
    "import plotly.offline as py\n",
    "py.init_notebook_mode()"
   ]
  },
  {
   "cell_type": "code",
   "execution_count": null,
   "metadata": {},
   "outputs": [],
   "source": [
    "u, v, t = symbols('u v t', real=True)\n",
    "#u, v, t = symbols('u v t')\n",
    "x, y, z = symbols('x y z')\n",
    "a, b, c = symbols('a b c')"
   ]
  },
  {
   "attachments": {},
   "cell_type": "markdown",
   "metadata": {},
   "source": [
    "# Hjemmeopgave 6\n",
    "Differentialgeometri og Parametrisk design - 01237\n",
    "\n",
    "Kaare G. S. Hansen, s214282, DTU\n",
    "\n",
    "22\\. november 2022"
   ]
  },
  {
   "attachments": {},
   "cell_type": "markdown",
   "metadata": {},
   "source": [
    "## Opgave 4 fra E17\n",
    "![](2022-11-08-22-50-57.png)\n",
    "$$\n",
    "\\mathbf{r}(t, u)=(2 \\cos (t)+\\cos (t) \\cos (u), 2 \\sin (t)+\\sin (t) \\cos (u), \\sin (u)), t \\in[0,2 \\pi], u \\in[-\\pi, \\pi] \\quad .\n",
    "$$\n"
   ]
  },
  {
   "cell_type": "code",
   "execution_count": null,
   "metadata": {},
   "outputs": [],
   "source": [
    "r = Matrix([2*cos(t)+cos(t)*cos(u), 2*sin(t)+sin(t)*cos(u), sin(u)])\n",
    "t_dom = (t, 0, 2*pi)\n",
    "u_dom = (u, -pi, pi)\n",
    "EqPrint(\"r(t,u)\", r)"
   ]
  },
  {
   "cell_type": "markdown",
   "metadata": {},
   "source": [
    "1. Bestem arealet af torus-fladen\n"
   ]
  },
  {
   "cell_type": "code",
   "execution_count": null,
   "metadata": {},
   "outputs": [],
   "source": [
    "r_jacobi = diff(r, u).cross(diff(r, t)).norm()\n",
    "areal_int = simplify(Integral(Integral(r_jacobi, t_dom), u_dom))\n",
    "EqPrint(\"A\", areal_int)"
   ]
  },
  {
   "cell_type": "code",
   "execution_count": null,
   "metadata": {},
   "outputs": [],
   "source": [
    "areal = areal_int.doit()\n",
    "EqPrint(\"A\", areal)"
   ]
  },
  {
   "cell_type": "markdown",
   "metadata": {},
   "source": [
    "2. Bestem volumenet af den tilsvarende massive torus, dvs.: bestem volumenet af det rumlige område, som er afgrænset af torus-fladen\n"
   ]
  },
  {
   "attachments": {},
   "cell_type": "markdown",
   "metadata": {},
   "source": [
    "Vi lægger parametren $v$ til parameterfremstillings 3. koordinat, og får:"
   ]
  },
  {
   "cell_type": "code",
   "execution_count": null,
   "metadata": {},
   "outputs": [],
   "source": [
    "r_sol = Matrix(r)\n",
    "r_sol[2] *= v\n",
    "v_dom = (v, 0, 1)\n",
    "EqPrint(\"r_{sol}(t,u,v)\",r_sol)"
   ]
  },
  {
   "cell_type": "code",
   "execution_count": null,
   "metadata": {},
   "outputs": [],
   "source": [
    "r_sol_jacobi = diff(r_sol, t).cross(diff(r_sol, u)).dot(diff(r_sol, v))\n",
    "r_sol_int = simplify(Integral(Integral(Integral(r_sol_jacobi, t_dom), u_dom), v_dom))\n",
    "EqPrint(\"Vol\", r_sol_int)"
   ]
  },
  {
   "cell_type": "code",
   "execution_count": null,
   "metadata": {},
   "outputs": [],
   "source": [
    "vol = r_sol_int.doit()\n",
    "EqPrint(\"Vol\", vol)"
   ]
  },
  {
   "cell_type": "markdown",
   "metadata": {},
   "source": [
    "3. Bestem Weingarten-matricen $\\mathbf{W}(t, u)$ for alle $(t, u)$ for torus-fladens parameterfremstilling\n"
   ]
  },
  {
   "cell_type": "code",
   "execution_count": null,
   "metadata": {},
   "outputs": [],
   "source": [
    "F_I = simplify(get_F_I(r, t, u))\n",
    "F_II = simplify(get_F_II(r, t, u))\n",
    "display(\n",
    "    EqPrint(\"\\mathcal{F}_I(t,u)\", F_I),\n",
    "    EqPrint(\"\\mathcal{F}_{II}(t,u)\", F_II)\n",
    ")"
   ]
  },
  {
   "cell_type": "code",
   "execution_count": null,
   "metadata": {},
   "outputs": [],
   "source": [
    "Weingarten = get_Weingarten(r, t, u)\n",
    "EqPrint(\"\\mathcal{W}(t,u)\", Weingarten)"
   ]
  },
  {
   "cell_type": "markdown",
   "metadata": {},
   "source": [
    "4. Bestem og beskriv de(t) punkt(er) på den givne torus-flade, hvor Gauss-krumningen $K$ er størst."
   ]
  },
  {
   "cell_type": "code",
   "execution_count": null,
   "metadata": {},
   "outputs": [],
   "source": [
    "GaussK = get_GaussK(Weingarten)\n",
    "EqPrint(\"K\", GaussK)"
   ]
  },
  {
   "attachments": {},
   "cell_type": "markdown",
   "metadata": {},
   "source": [
    "Vi differentierer og finder punkter med nul-vækst:"
   ]
  },
  {
   "cell_type": "code",
   "execution_count": null,
   "metadata": {},
   "outputs": [],
   "source": [
    "GaussK_m = diff(GaussK, u)\n",
    "GaussK_m"
   ]
  },
  {
   "cell_type": "code",
   "execution_count": null,
   "metadata": {},
   "outputs": [],
   "source": [
    "sol = solveset(Eq(GaussK_m, 0), u)\n",
    "sol"
   ]
  },
  {
   "cell_type": "code",
   "execution_count": null,
   "metadata": {},
   "outputs": [],
   "source": [
    "sol_u = [2 * pi, 2 * pi + pi]\n",
    "for _u in sol_u:\n",
    "    pts = r.subs({u:_u})\n",
    "    _K = GaussK.subs({u:_u})\n",
    "    display(Markdown(\"Punkterne \"f\"${latex(pts)}$, har alle en krumning på $K={_K}$\"))"
   ]
  },
  {
   "attachments": {},
   "cell_type": "markdown",
   "metadata": {},
   "source": [
    "hvor $t \\in [0, 2\\pi]$"
   ]
  },
  {
   "attachments": {},
   "cell_type": "markdown",
   "metadata": {},
   "source": [
    "Dvs. at den største krumning, $K=1/3$, findes i alle punkter på den ydre ring der omkreder torusen. Se figuren forneden:"
   ]
  },
  {
   "cell_type": "code",
   "execution_count": null,
   "metadata": {},
   "outputs": [],
   "source": [
    "plt1 = plot3d_parametric_line(*r.subs({u:0}), t_dom, backend=MB, rendering_kw={\"linewidth\": 10.0}, use_cm=False, adaptive=False, show=False)\n",
    "plt2 = plot3d_parametric_line(*r.subs({u:pi}), t_dom, backend=MB,rendering_kw={\"linewidth\": 10.0, \"zorder\":3}, use_cm=False, adaptive=False, show=False)\n",
    "plt3 = plot3d_parametric_surface(*r, t_dom, u_dom, backend=MB, rendering_kw={\"alpha\": 0.1}, wireframe=True, use_cm=False, show=False)\n",
    "plt1.extend(plt2)\n",
    "plt1.extend(plt3)\n",
    "plt1.show()"
   ]
  },
  {
   "cell_type": "code",
   "execution_count": null,
   "metadata": {},
   "outputs": [],
   "source": [
    "#################################################\n",
    "#  Skulle gøre det muligt at eksportere plots lave med plotly backend til PDF, men det ender med at nedestående code-cell kører i meget lang tid.\n",
    "#################################################\n",
    "\n",
    "# import plotly.io as pio\n",
    "# pio.renderers.default = \"notebook+pdf\" "
   ]
  },
  {
   "cell_type": "code",
   "execution_count": null,
   "metadata": {},
   "outputs": [],
   "source": [
    "colorF = lambdify([t, u], GaussK)\n",
    "t_dom2 = (t, 0, 1.5*pi)\n",
    "plt4 = plot3d_parametric_surface(*r, t_dom2, u_dom, \"GaussK\", backend=PB,\n",
    "    #rendering_kw={\"alpha\": 0.75},\n",
    "    color_func=colorF, use_cm=True,\n",
    "    adaptive=False, wireframe=True, show=False)\n",
    "plt4.show()\n",
    "\n",
    "# Dette plot er interaktivt og bliver ikke vist i PDF"
   ]
  },
  {
   "attachments": {},
   "cell_type": "markdown",
   "metadata": {},
   "source": [
    "## Opgave 3 fra E20\n",
    "![](2022-11-08-22-54-03.png)\n",
    "En parametriseret flade (keglefladen i figuren ovenfor) er givet ved\n",
    "$$\n",
    "\\mathbf{r}(u, v)=(u \\cdot \\cos (v), u \\cdot \\sin (v), u) \\quad, \\quad u \\in[-1,1] \\quad, \\quad v \\in[0,2 \\pi] \\quad .\n",
    "$$"
   ]
  },
  {
   "cell_type": "code",
   "execution_count": null,
   "metadata": {},
   "outputs": [],
   "source": [
    "r = Matrix([u*cos(v), u*sin(v), u])\n",
    "u_dom, v_dom = (u, -1, 1), (v, 0, 2*pi)\n",
    "EqPrint(\"r(u,v)\",r)"
   ]
  },
  {
   "cell_type": "markdown",
   "metadata": {},
   "source": [
    "3. Bestem anden fundamentalform matricen $\\mathcal{F}_{I I}(u, v)$ for $u>0$.\n"
   ]
  },
  {
   "cell_type": "code",
   "execution_count": null,
   "metadata": {},
   "outputs": [],
   "source": [
    "F_II = refine(simplify(get_F_II(r, u, v)), Q.positive(u))\n",
    "EqPrint(\"\\mathcal{F}_{II}\", F_II) # Assume u > 0"
   ]
  },
  {
   "cell_type": "markdown",
   "metadata": {},
   "source": [
    "4. Bestem Weingarten matricen $W(u, v)$ for $u>0$.\n"
   ]
  },
  {
   "cell_type": "code",
   "execution_count": null,
   "metadata": {},
   "outputs": [],
   "source": [
    "Weingarten = get_Weingarten(r, u, v)\n",
    "Weingarten = refine(Weingarten, Q.positive(u))\n",
    "EqPrint(\"\\mathcal{W}(u,v)\", Weingarten)"
   ]
  },
  {
   "attachments": {},
   "cell_type": "markdown",
   "metadata": {},
   "source": [
    "5. Bestem middelkrumningen $H(u, v)$ for $u>0$."
   ]
  },
  {
   "cell_type": "code",
   "execution_count": null,
   "metadata": {},
   "outputs": [],
   "source": [
    "MiddelH = get_MiddelH(Weingarten)\n",
    "EqPrint(\"H(u,v)\", MiddelH)"
   ]
  },
  {
   "cell_type": "markdown",
   "metadata": {},
   "source": [
    "6. Bestem Gauss-krumningen $K(u, v)$ for $u>0$."
   ]
  },
  {
   "cell_type": "code",
   "execution_count": null,
   "metadata": {},
   "outputs": [],
   "source": [
    "GaussK = get_GaussK(Weingarten)\n",
    "EqPrint(\"K(u,v)\", GaussK)"
   ]
  },
  {
   "attachments": {},
   "cell_type": "markdown",
   "metadata": {},
   "source": [
    "## Opgave 3 fra E21\n",
    "![](2022-11-08-22-59-20.png)\n",
    "Den blå flade i figuren ovenfor til venstre er givet ved parameterfremstillingen\n",
    "\n",
    "$\\mathscr{P}_1: \\quad \\mathbf{r}(u, v)=\\left((u+5) \\cdot \\cos (v),(u+5) \\cdot \\sin (v), 1-u^2\\right) \\quad, \\quad u \\in[-6,3] \\quad, \\quad v \\in[0,2 \\pi]$.\n",
    "\n",
    "En afskåret del af den blå flade er vist i nærbillede i figuren ovenfor til højre. Den del af fladen er givet ved parameterfremstillingen\n",
    "\n",
    "$\\mathscr{P}_2: \\quad \\mathbf{r}(u, v)=\\left((u+5) \\cdot \\cos (v),(u+5) \\cdot \\sin (v), 1-u^2\\right) \\quad, \\quad u \\in[-1,1] \\quad, \\quad v \\in[0,2 \\pi]$."
   ]
  },
  {
   "cell_type": "code",
   "execution_count": null,
   "metadata": {},
   "outputs": [],
   "source": [
    "r = Matrix([(u+5)*cos(v), (u+5)*sin(v), 1-u**2])\n",
    "EqPrint(\"r(u,v)\", r)"
   ]
  },
  {
   "cell_type": "markdown",
   "metadata": {},
   "source": [
    "6. Bestem anden fundamentalform matricen $\\mathcal{F}_{I I}(u, v)$ for $\\mathscr{P}_2$-fladen.\n"
   ]
  },
  {
   "cell_type": "code",
   "execution_count": null,
   "metadata": {},
   "outputs": [],
   "source": [
    "F_II = simplify(get_F_II(r, u, v))\n",
    "EqPrint(\"F_{II}(u,v)\", F_II)"
   ]
  },
  {
   "cell_type": "markdown",
   "metadata": {},
   "source": [
    "7. Bestem Weingarten matricen $W(u, v)$ for $\\mathscr{P}_2$-fladen.\n"
   ]
  },
  {
   "cell_type": "code",
   "execution_count": null,
   "metadata": {},
   "outputs": [],
   "source": [
    "Weingarten = simplify(get_Weingarten(r, u, v))\n",
    "EqPrint(\"W(u,v)\", Weingarten)"
   ]
  },
  {
   "cell_type": "markdown",
   "metadata": {},
   "source": [
    "8. Bestem middelkrumningen $H(u, v)$ for $\\mathcal{P}_2$-fladen.\n"
   ]
  },
  {
   "cell_type": "code",
   "execution_count": null,
   "metadata": {},
   "outputs": [],
   "source": [
    "MiddelH = simplify(get_MiddelH(Weingarten))\n",
    "EqPrint(\"H(u,v)\", MiddelH)"
   ]
  },
  {
   "cell_type": "markdown",
   "metadata": {},
   "source": [
    "9. Bestem Gauss-krumningen $K(u, v)$ for $\\mathscr{P}_2$-fladen.\n"
   ]
  },
  {
   "cell_type": "code",
   "execution_count": null,
   "metadata": {},
   "outputs": [],
   "source": [
    "GaussK = simplify(get_GaussK(Weingarten))\n",
    "EqPrint(\"K(u,v)\", GaussK)"
   ]
  },
  {
   "cell_type": "markdown",
   "metadata": {},
   "source": [
    "10. Beskriv de punkter på $\\mathscr{P}_2$-fladen, som er hyperbolske punkter på fladen.\n"
   ]
  },
  {
   "cell_type": "code",
   "execution_count": null,
   "metadata": {},
   "outputs": [],
   "source": [
    "# Definition 14.7, hyperbolsk hvis GaussK < 0\n",
    "sol1 = solveset(GaussK < 0, u, domain=S.Reals)\n",
    "sol1"
   ]
  },
  {
   "attachments": {},
   "cell_type": "markdown",
   "metadata": {},
   "source": [
    "Vi får løsningen $u \\in [-5, 0]$. Noget af denne løsning ligger uden for fladens interval for $u$.\n",
    "Dvs. når $u \\in [-1,0[$ er fladens punkter hyperbolske."
   ]
  },
  {
   "cell_type": "markdown",
   "metadata": {},
   "source": [
    "11. Vis, at $\\mathscr{P}_2$-fladen IKKE indeholder ét eller flere navlepunkter."
   ]
  },
  {
   "attachments": {},
   "cell_type": "markdown",
   "metadata": {},
   "source": [
    "For at have et navlepunkt, skal det være opfyld at $H^2=K$"
   ]
  },
  {
   "cell_type": "code",
   "execution_count": null,
   "metadata": {},
   "outputs": [],
   "source": [
    "Eq(MiddelH**2, GaussK)"
   ]
  },
  {
   "attachments": {},
   "cell_type": "markdown",
   "metadata": {},
   "source": [
    "Vi løser ligningen:"
   ]
  },
  {
   "cell_type": "code",
   "execution_count": null,
   "metadata": {},
   "outputs": [],
   "source": [
    "# Definition 14.7, navlepunkt hvis MiddelH**2 = GaussK\n",
    "sol2 = solveset(Eq(MiddelH**2, GaussK), domain=S.Reals)\n",
    "sol2"
   ]
  },
  {
   "cell_type": "code",
   "execution_count": null,
   "metadata": {},
   "outputs": [],
   "source": [
    "sol2.evalf()"
   ]
  },
  {
   "attachments": {},
   "cell_type": "markdown",
   "metadata": {},
   "source": [
    "Vores eneste løsning til ligningen, ligger uden for $u$'s interval. Derfor findes der ingen navlepunkter på fladen $\\mathscr{P}_2$."
   ]
  }
 ],
 "metadata": {
  "kernelspec": {
   "display_name": "base",
   "language": "python",
   "name": "python3"
  },
  "language_info": {
   "codemirror_mode": {
    "name": "ipython",
    "version": 3
   },
   "file_extension": ".py",
   "mimetype": "text/x-python",
   "name": "python",
   "nbconvert_exporter": "python",
   "pygments_lexer": "ipython3",
   "version": "3.9.13"
  },
  "orig_nbformat": 4,
  "vscode": {
   "interpreter": {
    "hash": "ad2bdc8ecc057115af97d19610ffacc2b4e99fae6737bb82f5d7fb13d2f2c186"
   }
  }
 },
 "nbformat": 4,
 "nbformat_minor": 2
}
