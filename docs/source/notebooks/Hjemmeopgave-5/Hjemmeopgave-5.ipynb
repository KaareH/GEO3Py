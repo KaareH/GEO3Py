{
 "cells": [
  {
   "cell_type": "code",
   "execution_count": null,
   "metadata": {},
   "outputs": [],
   "source": [
    "import sys\n",
    "print (sys.version)\n",
    "# init\n",
    "#%matplotlib widget\n",
    "#%matplotlib inline\n",
    "import numpy as np\n",
    "from sympy import *\n",
    "from mpl_toolkits import mplot3d\n",
    "import matplotlib.pyplot as plt\n",
    "#%matplotlib notebook\n",
    "from IPython.display import display, Markdown, Latex\n",
    "from geo3py import *\n"
   ]
  },
  {
   "cell_type": "code",
   "execution_count": null,
   "metadata": {},
   "outputs": [],
   "source": [
    "u, v, t = symbols('u v t', real=True)\n",
    "# u, v, t = symbols('u v t')\n",
    "x, y, z = symbols('x y z')\n",
    "a, b, c = symbols('a b c')"
   ]
  },
  {
   "cell_type": "markdown",
   "metadata": {
    "user_expressions": []
   },
   "source": [
    "# Hjemmeopgave 5\n",
    "Differentialgeometri og Parametrisk design - 01237\n",
    "\n",
    "Kaare G. S. Hansen, s214282, DTU\n",
    "\n",
    "8\\. november 2022"
   ]
  },
  {
   "attachments": {},
   "cell_type": "markdown",
   "metadata": {},
   "source": [
    "## Opgave 3 fra E15\n",
    "En cirkulær fodpunktskurve for en bevægelse i rummet er givet således:\n",
    "$$\n",
    "\\mathbf{p}(t)=(2 \\cos (t), 2 \\sin (t), 0) ,  \\text { for }  \\mathrm{t} \\in[0,2 \\pi] \\text {. }\n",
    "$$"
   ]
  },
  {
   "cell_type": "code",
   "execution_count": null,
   "metadata": {},
   "outputs": [],
   "source": [
    "p = Matrix([[2*cos(t), 2*sin(t), 0]])\n",
    "t_dom = (t, 0, 2*pi)\n",
    "p"
   ]
  },
  {
   "attachments": {},
   "cell_type": "markdown",
   "metadata": {},
   "source": [
    "\n",
    "1. Bestem Frenet-Serret kantvektorerne $\\mathbf{e}(t), \\mathbf{f}(t)$, og $\\mathbf{g}(t)$ for Frenet-Serret trebenet for kurven $\\mathbf{p}(t)$.\n",
    "\n"
   ]
  },
  {
   "cell_type": "code",
   "execution_count": null,
   "metadata": {},
   "outputs": [],
   "source": [
    "# Sætning 8.25 ,8.22\n",
    "_v = diff(p, t).norm()\n",
    "temp = diff(p,t).cross(diff(p,t,t))\n",
    "kappa = temp.norm() / _v**3\n",
    "Markdown(f\"$\\kappa = {latex(kappa)}$\")\n"
   ]
  },
  {
   "attachments": {},
   "cell_type": "markdown",
   "metadata": {},
   "source": [
    "Det ses at $\\kappa(t) > 0$ for alle $t$."
   ]
  },
  {
   "cell_type": "code",
   "execution_count": null,
   "metadata": {},
   "outputs": [],
   "source": [
    "e = simplify(diff(p,t) / _v)\n",
    "Markdown(f\"$e={latex(e)}$\")"
   ]
  },
  {
   "cell_type": "code",
   "execution_count": null,
   "metadata": {},
   "outputs": [],
   "source": [
    "temp = diff(p,t).cross(diff(p,t,t))\n",
    "g = temp / temp.norm()\n",
    "Markdown(f\"$g = {latex(g)}$\")"
   ]
  },
  {
   "cell_type": "code",
   "execution_count": null,
   "metadata": {},
   "outputs": [],
   "source": [
    "f = simplify(g.cross(e))\n",
    "Markdown(f\"$f = {latex(f)}$\")"
   ]
  },
  {
   "attachments": {},
   "cell_type": "markdown",
   "metadata": {},
   "source": [
    "\n",
    "Lad $\\mathbf{R}_{F S}(t)$ betegne den til Frenet-Serret trebenet hørende rotationsmatrix (med søjlevektorerne $\\mathbf{e}(t), \\mathbf{f}(t)$, og $\\mathbf{g}(t))$. Vi definerer så en ny rotationsmatrix $\\mathbf{R}(t)$ som følgende produkt med en rotation om $x$-aksen:\n",
    "$$\n",
    "\\mathbf{R}(t)=\\mathbf{R}_{F S}(t) \\cdot \\mathbf{R}_x(t)\n",
    "$$\n"
   ]
  },
  {
   "cell_type": "code",
   "execution_count": null,
   "metadata": {},
   "outputs": [],
   "source": [
    "R_FS = simplify(Matrix([e, f, g])).transpose()\n",
    "Markdown(\"$R_{FS} =\"f\"{latex(R_FS)}$\")"
   ]
  },
  {
   "cell_type": "code",
   "execution_count": null,
   "metadata": {},
   "outputs": [],
   "source": [
    "R_x = Matrix([[1, 0,0 ],[0, cos(t), -sin(t)],[0, sin(t), cos(t)]])\n",
    "R_t = R_FS * R_x\n",
    "Markdown(f\"$R(t) = {latex(R_t)}$\")"
   ]
  },
  {
   "cell_type": "markdown",
   "metadata": {},
   "source": [
    "\n",
    "2. Bestem den til rotationen $\\mathbf{R}(t)$ hørende aksematrix $\\boldsymbol{\\Omega}(t)$ og den associerede aksevektor $\\boldsymbol{\\omega}(t)$ for ethvert $t$."
   ]
  },
  {
   "cell_type": "code",
   "execution_count": null,
   "metadata": {},
   "outputs": [],
   "source": [
    "# (8.85)\n",
    "Omega_t = simplify(diff(R_t,t) * R_t.transpose())\n",
    "EqPrint(\"\\Omega(t)\", Omega_t)"
   ]
  },
  {
   "cell_type": "code",
   "execution_count": null,
   "metadata": {},
   "outputs": [],
   "source": [
    "omega_t = Matrix([Omega_t[2, 1], Omega_t[0, 2], Omega_t[1, 0]])\n",
    "EqPrint(\"\\omega(t)\", omega_t)"
   ]
  },
  {
   "attachments": {},
   "cell_type": "markdown",
   "metadata": {},
   "source": [
    "\n",
    "Rotationsmatricen $\\mathbf{R}(t)$ benyttes til at konstruere en sweeping af en flade ved hjælp af et ret linjestykke langs kurven $\\mathbf{p}(t)$ således:\n",
    "$$\n",
    "\\mathbf{q}(t, u)=\\mathbf{p}(t)+\\left(\\mathbf{R}(t) \\cdot \\mathbf{w}_N^*(u)\\right)^* ,  \\text { hvor }  \\mathrm{t} \\in[0,2 \\pi], \\mathbf{u} \\in[-1,1] ,\n",
    "$$\n",
    "og hvor $\\mathbf{w}_N(u)=(0,0, u)_N$.\n",
    "\n",
    "3. Gør rede for, at med disse ingredienser har vi:\n",
    "$$\n",
    "\\mathbf{q}(t, u)=\\left(u \\cdot \\cos (t) \\sin (t)+2 \\cos (t), u \\cdot \\sin ^2(t)+2 \\sin (t), u \\cdot \\cos (t)\\right)\n",
    "$$\n",
    "hvor $t \\in[0,2 \\pi]$ og $u \\in[-1,1]$.\n",
    "\n"
   ]
  },
  {
   "cell_type": "code",
   "execution_count": null,
   "metadata": {},
   "outputs": [],
   "source": [
    "w_N = Matrix([[0, 0, u]])\n",
    "q = p + (R_t * w_N.transpose()).transpose()\n",
    "EqPrint(\"q(t, u)\", q)"
   ]
  },
  {
   "attachments": {},
   "cell_type": "markdown",
   "metadata": {},
   "source": [
    "\n",
    "På figuren ses (til venstre) fladen med parameterfremstillingen $\\mathbf{q}(t, u)$ samt (til højre) fladens to randkurver.\n",
    "\n",
    "<style> img { max-width:  80%;} </style>\n",
    "![](2022-11-08-10-20-27.png)\n",
    "\n",
    "4. Find en parameterfremstilling (med parameteren $t$ ) for hver enkelt af de to randkurver.\n"
   ]
  },
  {
   "attachments": {},
   "cell_type": "markdown",
   "metadata": {},
   "source": [
    "Vi kan finde randkurverne ved at sætte $u=\\pm 1$"
   ]
  },
  {
   "cell_type": "code",
   "execution_count": null,
   "metadata": {},
   "outputs": [],
   "source": [
    "q_r1 = q.subs({u:-1})\n",
    "q_r2 = q.subs({u:1})\n",
    "display(\n",
    "    Markdown(\"Parameterfremstillinger for randkurver:\"),\n",
    "    EqPrint(\"q_{r1}(t)\", q_r1),\n",
    "    EqPrint(\"q_{r2}(t)\", q_r2)\n",
    ")"
   ]
  },
  {
   "cell_type": "code",
   "execution_count": null,
   "metadata": {},
   "outputs": [],
   "source": [
    "plt1 = plotting.plot3d_parametric_surface(*q, (u, -1, 1), (t, 0, 2*pi), show=False)\n",
    "plt1.append(plotting.plot3d_parametric_line(*q_r1,(t, 0, 2*pi), show=False)[0])\n",
    "plt1.append(plotting.plot3d_parametric_line(*q_r2,(t, 0, 2*pi), show=False)[0])\n",
    "plt1.show()"
   ]
  },
  {
   "attachments": {},
   "cell_type": "markdown",
   "metadata": {},
   "source": [
    "\n",
    "5. Argumentér for, at de to randkurver har samme længde.\n"
   ]
  },
  {
   "cell_type": "code",
   "execution_count": null,
   "metadata": {},
   "outputs": [],
   "source": [
    "simplify(diff(q_r1,t).norm())"
   ]
  },
  {
   "cell_type": "code",
   "execution_count": null,
   "metadata": {},
   "outputs": [],
   "source": [
    "simplify(diff(q_r2,t).norm()).subs({t:t+pi})"
   ]
  },
  {
   "attachments": {},
   "cell_type": "markdown",
   "metadata": {},
   "source": [
    "Det ses at hvis vi lægger $\\pi$ til $t$ i den ene Jacobi-funktion, bliver de lig hinanden - hvad der blot svarer til at forskyde domænet."
   ]
  },
  {
   "attachments": {},
   "cell_type": "markdown",
   "metadata": {},
   "source": [
    "\n",
    "6. Bestem krumningen $\\kappa(t)$ af den røde randkurve (der har $u=1$ ).\n"
   ]
  },
  {
   "cell_type": "code",
   "execution_count": null,
   "metadata": {},
   "outputs": [],
   "source": [
    "# Definition 8.12, 8.25\n",
    "p = q_r2\n",
    "_v = diff(p, t).norm()\n",
    "kappa = simplify(((diff(p,t).cross(diff(p,t,t))).norm()) / (_v**3))\n",
    "EqPrint(\"\\kappa(t)\", kappa)"
   ]
  },
  {
   "cell_type": "code",
   "execution_count": null,
   "metadata": {},
   "outputs": [],
   "source": [
    "p = Matrix([[cos(t)*(sin(t)+2), sin(t)*(sin(t) + 2), cos(t)]])\n",
    "p = p.transpose()"
   ]
  },
  {
   "cell_type": "code",
   "execution_count": null,
   "metadata": {},
   "outputs": [],
   "source": [
    "tempa1 = diff(p, t).norm()\n",
    "tempa2 = diff(p, t)\n",
    "tempa3 = diff(p, t, t)"
   ]
  },
  {
   "cell_type": "code",
   "execution_count": null,
   "metadata": {},
   "outputs": [],
   "source": [
    "tempa4 = tempa2.cross(tempa3)\n",
    "tempa4"
   ]
  },
  {
   "cell_type": "code",
   "execution_count": null,
   "metadata": {},
   "outputs": [],
   "source": [
    "tempa5 = simplify(tempa4).norm()\n",
    "tempa5"
   ]
  },
  {
   "cell_type": "code",
   "execution_count": null,
   "metadata": {},
   "outputs": [],
   "source": [
    "tempa5/(tempa1**3)"
   ]
  },
  {
   "cell_type": "code",
   "execution_count": null,
   "metadata": {},
   "outputs": [],
   "source": [
    "kappa = simplify((tempa4.norm())/(tempa1**3))"
   ]
  },
  {
   "cell_type": "code",
   "execution_count": null,
   "metadata": {},
   "outputs": [],
   "source": [
    "solveset(Eq(kappa, 0), t, domain=S.Reals)"
   ]
  },
  {
   "attachments": {},
   "cell_type": "markdown",
   "metadata": {},
   "source": [
    "\n",
    "7. Argumentér for, at der findes et punkt på hver enkelt af de to randkurver, hvor krumningen er 0."
   ]
  },
  {
   "cell_type": "code",
   "execution_count": null,
   "metadata": {},
   "outputs": [],
   "source": [
    "sol1 = solve(kappa, 0, t)"
   ]
  },
  {
   "cell_type": "code",
   "execution_count": null,
   "metadata": {},
   "outputs": [],
   "source": [
    "sol1[0][t]"
   ]
  },
  {
   "cell_type": "code",
   "execution_count": null,
   "metadata": {},
   "outputs": [],
   "source": [
    "simplify(diff(q_r1, t, t).transpose().norm())"
   ]
  },
  {
   "cell_type": "code",
   "execution_count": null,
   "metadata": {},
   "outputs": [],
   "source": [
    "eq1 = Eq(-sin(t)**2 - 8*sin(t)+9,0)\n",
    "eq1"
   ]
  },
  {
   "cell_type": "code",
   "execution_count": null,
   "metadata": {},
   "outputs": [],
   "source": [
    "solve(eq1, t)"
   ]
  },
  {
   "cell_type": "code",
   "execution_count": null,
   "metadata": {},
   "outputs": [],
   "source": [
    "kappa.subs({t:-(1/2)*pi})"
   ]
  },
  {
   "attachments": {},
   "cell_type": "markdown",
   "metadata": {},
   "source": [
    "Dvs. når $t=\\pi/2$ er krummningen 0"
   ]
  },
  {
   "attachments": {},
   "cell_type": "markdown",
   "metadata": {},
   "source": [
    "## Opgave 3 fra E20\n",
    "![](2022-11-08-10-29-07.png)\n",
    "\n",
    "En parametriseret flade (keglefladen i figuren ovenfor) er givet ved\n",
    "$$\n",
    "\\mathbf{r}(u, v)=(u \\cdot \\cos (v), u \\cdot \\sin (v), u) ,  u \\in[-1,1] ,  v \\in[0,2 \\pi]  .\n",
    "$$\n"
   ]
  },
  {
   "cell_type": "code",
   "execution_count": null,
   "metadata": {},
   "outputs": [],
   "source": [
    "r = Matrix([[u*cos(v), u*sin(v),u]])\n",
    "p = plotting.plot3d_parametric_surface(*r, (u, -1, -1/2), (v, 0, 2*pi), show=False)\n",
    "p.show()"
   ]
  },
  {
   "attachments": {},
   "cell_type": "markdown",
   "metadata": {},
   "source": [
    "\n",
    "1. Bestem arealet af den nederste (grå) del af den viste kegleflade, svarende til parameterområdet $u \\in[-1,-1 / 2], v \\in[0,2 \\pi]$.\n"
   ]
  },
  {
   "cell_type": "code",
   "execution_count": null,
   "metadata": {},
   "outputs": [],
   "source": [
    "temp = diff(r, u).cross(diff(r,v))\n",
    "r_jacobi = sqrt(DotProduct(temp, temp))\n",
    "areal_int = simplify(Integral(Integral(r_jacobi, (v, 0, 2*pi)), (u, -1, -S(1)/2)))\n",
    "areal = areal_int.doit()"
   ]
  },
  {
   "cell_type": "code",
   "execution_count": null,
   "metadata": {},
   "outputs": [],
   "source": [
    "Markdown(f\"Overflade arealet er givet ved $a={latex(areal_int)} = {latex(areal)}$\")"
   ]
  },
  {
   "attachments": {},
   "cell_type": "markdown",
   "metadata": {},
   "source": [
    "2. Bestem første fundamentalform matricen $\\mathcal{F}_I(u, v)$ for fladen for alle $(u, v)$ med $u>0$.\n"
   ]
  },
  {
   "cell_type": "markdown",
   "metadata": {},
   "source": [
    "$$\\mathcal{F}_I(u,v)$$"
   ]
  },
  {
   "cell_type": "code",
   "execution_count": null,
   "metadata": {},
   "outputs": [],
   "source": [
    "def get_F_I(r):\n",
    "    m = Matrix([[diff(r,u).dot(diff(r,u)), diff(r,u).dot(diff(r,v))]\n",
    "        ,[diff(r,v).dot(diff(r,u)), diff(r,v).dot(diff(r,v))]])\n",
    "    return m\n",
    "F_I = simplify(get_F_I(r))\n",
    "Markdown(\"$$\\mathcal{F}_I(u,v)\"f\" = {latex(F_I)}$$\")"
   ]
  },
  {
   "cell_type": "code",
   "execution_count": null,
   "metadata": {},
   "outputs": [],
   "source": [
    "# Sætning 12.24\n",
    "Eq(simplify(diff(r, u).cross(diff(r, v)).norm()), simplify(sqrt(Determinant(F_I).doit())), evaluate=False)\n"
   ]
  },
  {
   "attachments": {},
   "cell_type": "markdown",
   "metadata": {},
   "source": [
    "Vi definerer en rumkurve $\\mathbf{p}(t)$ (den røde kurve i figuren) via keglefladens parameterfremstilling:\n",
    "$$\n",
    "\\mathbf{p}(t)=\\mathbf{r}(t, t)=(t \\cdot \\cos (t), t \\cdot \\sin (t), t) ,  t \\in[-1,1]  .\n",
    "$$\n"
   ]
  },
  {
   "attachments": {},
   "cell_type": "markdown",
   "metadata": {},
   "source": [
    "7. Argumentér for, at rumkurven $\\mathbf{p}(t)$ er regulær for alle $t \\in[-1,1]$."
   ]
  },
  {
   "cell_type": "code",
   "execution_count": null,
   "metadata": {},
   "outputs": [],
   "source": [
    "p = r.subs({u:t, v:t})\n",
    "display(p)"
   ]
  },
  {
   "cell_type": "code",
   "execution_count": null,
   "metadata": {},
   "outputs": [],
   "source": [
    "_v = diff(p, t).norm()\n",
    "Markdown(f\"$v(t)={latex(_v)}$\")"
   ]
  },
  {
   "cell_type": "markdown",
   "metadata": {},
   "source": [
    "Det ses at $v(t)$ altid vil være forskellig fra nul, og derfor er den regulær.\n",
    "(Definition 8.2 siger $p'(t)\\neq 0$)"
   ]
  },
  {
   "cell_type": "markdown",
   "metadata": {},
   "source": [
    "\n",
    "8. Bestem krumningen $\\kappa(0)$ af rumkurven $\\mathbf{p}(t)$ i punktet svarende til $t=0$.\n"
   ]
  },
  {
   "cell_type": "markdown",
   "metadata": {},
   "source": [
    "$$\\kappa(t)=\\frac{||p'(t) \\times p''(t)||}{v^3(t)}$$"
   ]
  },
  {
   "cell_type": "code",
   "execution_count": null,
   "metadata": {},
   "outputs": [],
   "source": [
    "kappa = simplify(diff(p, t).cross(diff(p, t, t)).norm()/_v**3)\n",
    "Markdown(f\"$\\kappa(t)={latex(kappa)}$\")"
   ]
  },
  {
   "cell_type": "code",
   "execution_count": null,
   "metadata": {},
   "outputs": [],
   "source": [
    "Markdown(f\"$\\kappa(0)={latex(kappa.subs({t:0}))}$\")"
   ]
  },
  {
   "cell_type": "markdown",
   "metadata": {},
   "source": [
    "\n",
    "9. Bestem torsionen $\\tau(0)$ af rumkurven $\\mathbf{p}(t)$ for $t=0$."
   ]
  },
  {
   "cell_type": "markdown",
   "metadata": {},
   "source": [
    "$$\\tau(t)= \\frac{(p'(t) \\times p''(t))\\cdot p'''(t)} {||p'(t) \\times p''(t)||^2}$$"
   ]
  },
  {
   "cell_type": "code",
   "execution_count": null,
   "metadata": {},
   "outputs": [],
   "source": [
    "tau = (diff(p, t).cross(diff(p, t, t))).dot(diff(p,t,t,t)) / diff(p, t).cross(diff(p, t, t)).norm()**2\n",
    "tau = simplify(tau)\n",
    "Markdown(f\"$$\\\\tau(t) = {latex(tau)}$$\")"
   ]
  },
  {
   "cell_type": "code",
   "execution_count": null,
   "metadata": {},
   "outputs": [],
   "source": [
    "result = tau.subs({t:0})\n",
    "Markdown(f\"$$\\\\tau(0) = {latex(result)}$$\")"
   ]
  },
  {
   "attachments": {},
   "cell_type": "markdown",
   "metadata": {},
   "source": [
    "## Opgave 3 fra E21\n",
    "![](2022-11-08-10-36-03.png)\n",
    "\n",
    "Den blå flade i figuren ovenfor til venstre er givet ved parameterfremstillingen\n",
    "\n",
    "$\\mathcal{P}_1: \\\\mathbf{r}(u, v)=\\left((u+5) \\cdot \\cos (v),(u+5) \\cdot \\sin (v), 1-u^2\\right) ,  u \\in[-6,3] \\quad, \\quad v \\in[0,2 \\pi] \\quad$.\n",
    "\n",
    "En afskåret del af den blå flade er vist i nærbillede i figuren ovenfor til højre. Den del af fladen er givet ved parameterfremstillingen\n",
    "\n",
    "$\\mathcal{P}_2: \\mathbf{r}(u, v)=\\left((u+5) \\cdot \\cos (v),(u+5) \\cdot \\sin (v), 1-u^2\\right) \\quad, \\quad u \\in[-1,1] \\quad, \\quad v \\in[0,2 \\pi]$.\n"
   ]
  },
  {
   "cell_type": "code",
   "execution_count": null,
   "metadata": {},
   "outputs": [],
   "source": [
    "r = Matrix([[(u+5)*cos(v), (u+5)*sin(v), 1-u**2]])\n",
    "\n",
    "class Surf3D:\n",
    "    def __init__(self, r, u_dom, v_dom):\n",
    "        self.r = r\n",
    "        self.u_dom = u_dom\n",
    "        self.v_dom = v_dom\n",
    "\n",
    "u_dom = (u, -6, 3)\n",
    "v_dom = (v, 0, 2*pi)\n",
    "P1 = Surf3D(r, u_dom, v_dom)\n",
    "\n",
    "u_dom = (u, -1, 1)\n",
    "v_dom = (v, 0, 2*pi)\n",
    "P2 = Surf3D(r, u_dom, v_dom)\n"
   ]
  },
  {
   "cell_type": "code",
   "execution_count": null,
   "metadata": {},
   "outputs": [],
   "source": [
    "for P in [P1, P2]:\n",
    "    p = plotting.plot3d_parametric_surface(*P.r, P.u_dom, P.v_dom, show=False)\n",
    "    p.show()"
   ]
  },
  {
   "attachments": {},
   "cell_type": "markdown",
   "metadata": {},
   "source": [
    "1. Vis, at $\\mathcal{P}_1$ IKKE er en regulær parameterfremstilling med det givne parameterområde.\n"
   ]
  },
  {
   "cell_type": "code",
   "execution_count": null,
   "metadata": {},
   "outputs": [],
   "source": [
    "# Definition 12.6 og 10.11\n",
    "r = P1.r\n",
    "#temp = diff(r,u).cross(diff(r,v)).norm()\n",
    "temp = diff(r,u).cross(diff(r,v))\n",
    "eq1 = Eq(temp, 0)\n",
    "#solve(eq1, dict=True, domain=S.Reals)\n",
    "# solveset(temp, u, domain=S.Reals)\n",
    "#display(eq1)\n",
    "#solveset(eq1, u, S.Reals)\n",
    "#nonlinsolve(r, [u, v], S.Reals)\n",
    "#solveset()\n",
    "#u, v = symbols('u v', real=True)\n",
    "#solve(temp, [u,v])\n",
    "\n",
    "#display(simplify(temp))\n",
    "#temp2 = diff(temp, u)\n",
    "#sol = solve(simplify(temp2), 0, dict=True)\n",
    "#display(sol)\n",
    "#display(sol[0][u])\n",
    "#simplify(temp.subs({u:sol[1][u]}))\n",
    "#display(simplify(temp))\n",
    "\n",
    "\n",
    "#simplify(temp.transpose())\n",
    "#temp.subs({u:-5})\n",
    "\n",
    "solve(Eq(temp, Matrix([[0,0,0]])))"
   ]
  },
  {
   "cell_type": "markdown",
   "metadata": {},
   "source": [
    "Det ses at når $u=-5$, er udtrykket lig nul. Derfor er $\\mathcal{P}_1$ ikke regulær."
   ]
  },
  {
   "attachments": {},
   "cell_type": "markdown",
   "metadata": {},
   "source": [
    "2. Vis, at $\\mathcal{P}_2$ ER en regulær parameterfremstilling med det givne parameterområde.\n"
   ]
  },
  {
   "attachments": {},
   "cell_type": "markdown",
   "metadata": {},
   "source": [
    "I forrige spørgsmål blev der løst for 0 med  $(u, v) \\in \\mathbb{R}$ - trods opagven havde et begrænset domæne. Der blev kun fundet en løsning, og denne ligger uden for $u \\in [-1, 1]$. Derfor er $\\mathcal{P}_2$ regulær."
   ]
  },
  {
   "attachments": {},
   "cell_type": "markdown",
   "metadata": {},
   "source": [
    "3. Bestem arealet af $\\mathcal{P}_2$-fladen.\n"
   ]
  },
  {
   "cell_type": "code",
   "execution_count": null,
   "metadata": {},
   "outputs": [],
   "source": [
    "r = P2.r\n",
    "r_jac = diff(r,u).cross(diff(r,v)).norm()\n",
    "areal_int = simplify(Integral(Integral(r_jac, (u, -1, 1)), (v, 0, 2*pi)))\n",
    "Markdown(f\"$$A={latex(areal_int)}$$\")"
   ]
  },
  {
   "cell_type": "code",
   "execution_count": null,
   "metadata": {},
   "outputs": [],
   "source": [
    "areal = areal_int.doit()\n",
    "Markdown(f\"$A={latex(areal)} = {latex(areal.evalf())}$\")"
   ]
  },
  {
   "attachments": {},
   "cell_type": "markdown",
   "metadata": {},
   "source": [
    "4. Bestem volumenet af det område i rummet, som er afgrænset af $\\mathcal{P}_2$-fladen og $(x, y)$-planen (den grønne plan i figurerne).\n"
   ]
  },
  {
   "cell_type": "code",
   "execution_count": null,
   "metadata": {},
   "outputs": [],
   "source": [
    "M_r = Matrix(r)\n",
    "M_r[2] *= t\n",
    "M_r.transpose()"
   ]
  },
  {
   "cell_type": "code",
   "execution_count": null,
   "metadata": {},
   "outputs": [],
   "source": [
    "M_r_jac = simplify(diff(M_r,u).cross(diff(M_r,v)).dot(diff(M_r, t)))\n",
    "display(M_r_jac)\n",
    "vol_int = simplify(Integral(Integral(Integral(M_r_jac, (u, -1, 1)), (v, 0, 2*pi)), (t, 0, 1)))\n",
    "vol_int\n",
    "#Markdown(f\"$$A={latex(areal_int)}$$\")"
   ]
  },
  {
   "cell_type": "code",
   "execution_count": null,
   "metadata": {},
   "outputs": [],
   "source": [
    "p = plotting.plot3d_parametric_surface(*M_r.subs({t:0.001}), P2.u_dom, (v, 2*pi,1.6*pi), show=False)\n",
    "p.append(plotting.plot3d_parametric_surface(*M_r.subs({t:0.5}), P2.u_dom, (v, 1.6*pi,1.2*pi), show=False)[0])\n",
    "p.append(plotting.plot3d_parametric_surface(*M_r.subs({t:0.75}), P2.u_dom, (v, 1.2*pi,0.8*pi), show=False)[0])\n",
    "p.append(plotting.plot3d_parametric_surface(*M_r.subs({t:1}), P2.u_dom, (v, 0.8*pi,0.4*pi), show=False)[0])\n",
    "p[0].style = 'wireframe'\n",
    "p[1].style = 'wireframe'\n",
    "p[2].style = 'wireframe'\n",
    "p[3].style = 'wireframe'\n",
    "p.show()"
   ]
  },
  {
   "cell_type": "markdown",
   "metadata": {},
   "source": [
    "5. Bestem første fundamentalform matricen $\\mathcal{F}_I(u, v)$ for $\\mathcal{P}_2$-fladen."
   ]
  },
  {
   "cell_type": "code",
   "execution_count": null,
   "metadata": {},
   "outputs": [],
   "source": [
    "r = P2.r\n",
    "F_I = simplify(get_F_I(r))\n",
    "Markdown(\"$$\\mathcal{F}_I(u,v)\"f\" = {latex(F_I)}$$\")"
   ]
  }
 ],
 "metadata": {
  "kernelspec": {
   "display_name": "base",
   "language": "python",
   "name": "python3"
  },
  "language_info": {
   "codemirror_mode": {
    "name": "ipython",
    "version": 3
   },
   "file_extension": ".py",
   "mimetype": "text/x-python",
   "name": "python",
   "nbconvert_exporter": "python",
   "pygments_lexer": "ipython3",
   "version": "3.9.13 (main, Aug 25 2022, 23:51:50) [MSC v.1916 64 bit (AMD64)]"
  },
  "vscode": {
   "interpreter": {
    "hash": "ad2bdc8ecc057115af97d19610ffacc2b4e99fae6737bb82f5d7fb13d2f2c186"
   }
  }
 },
 "nbformat": 4,
 "nbformat_minor": 4
}
